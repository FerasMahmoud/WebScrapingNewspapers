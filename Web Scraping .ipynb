{
 "cells": [
  {
   "cell_type": "code",
   "execution_count": 14,
   "metadata": {},
   "outputs": [],
   "source": [
    "from selenium import webdriver # هذي المكتبة تفتح متصفح قوقل كروم\n",
    "import requests # هذي المكتبة تجبلنا html في اي موقع\n",
    "from bs4 import BeautifulSoup as bs\n",
    "import xlsxwriter # هذي المكتبة راح تخلينا نحفظ الكلام في الاكسل\n",
    "from selenium.webdriver.common.action_chains import ActionChains as act # هذي المكتبة راح تخلينا نقدر نضغط في الصفحة\n",
    "# تعريف لل مكتبات التي سوف تستخدم"
   ]
  },
  {
   "cell_type": "code",
   "execution_count": 15,
   "metadata": {},
   "outputs": [],
   "source": [
    "driver = webdriver.Chrome('C:\\Program Files (x86)\\chromedriver.exe') # الملف اللي حملناه وتاكد انك حاطه في نفس المسار\n",
    "driver.get('https://ajel.sa/local/') # يطلعلك المتصفح بالرابط اللي حاطه\n",
    "\n",
    "#----------------------------------------------------------------------\n",
    "\n",
    "# for word in driver.find_element_by_xpath('/html/body/div[5]/div[2]/div[1]/div[1]/section/header/div/div/h2').text.split():\n",
    "#    if word.isdigit():\n",
    "#        num = int(word) "
   ]
  },
  {
   "cell_type": "code",
   "execution_count": null,
   "metadata": {},
   "outputs": [],
   "source": []
  },
  {
   "cell_type": "code",
   "execution_count": null,
   "metadata": {},
   "outputs": [],
   "source": [
    "element= driver.find_element_by_xpath('/html/body/div[5]/div[2]/div[1]/div[2]') # هذا يضغطلك على كلمة المزيد عشان اقدر اطلع كل المقالات\n",
    "act = act(driver) # حطه بنفس الشكل ذا\n",
    "for i in range(int(num /17)): # كل صفحه في 17 مقال فقسمت عدد ضغطات كلمة المزيد على عدد المقالات عشان اجيب المقالات كلها\n",
    "    act.click(on_element=element) # هذا الكود يضغطلي كلمة المزيد\n",
    "    act.perform()\n",
    "\n",
    "x = driver.find_element_by_xpath(\"/html/body/div[5]/div[2]/div[1]/div[1]/section/div/div/ul\") # هذا يعطيني كل المقالات اللي موجودة في الصفحه\n",
    "allUrls=list() # عرفت لست عشان احط كل الروابط فيه\n",
    "for i in range(num): # دخلت في لوب على عدد المقالات\n",
    "    x1= x.find_element_by_xpath('/html/body/div[5]/div[2]/div[1]/div[1]/section/div/div/ul/li[{o}]/div/a'.format(o=i+1)) # هذا يعطيني كل مقالة بالظبط\n",
    "    allUrls.append(x1.get_attribute('href')) # هنا يعطيني رابط كل مقالة\n",
    "driver.quit() # هذا يقفلي المتصفح بعد ما جمعت الروابط كلها\n",
    "\n",
    "def info(url): # هنا عرفت function\n",
    "    soup = bs(requests.get(url).content, 'html.parser') # هنا يجيب كل الروابط اللي طلعناها\n",
    "    title = soup.title.string.replace(' - أخبار السعودية | صحيفة عكاظ',\"\") # هنا يجيب موضوع المقالة\n",
    "    text = soup.find('div', attrs={\"class\":\"bodyText\"}).get_text().replace(\"< Previous PageNext Page > \",\"\").replace(\"\\n\",\"\").strip() # هنا يجيب الكلام اللي في المقالة\n",
    "    return[title,text] # هنا يرجع الموضوع والكلام اللي في المقالة\n",
    "\n",
    "# for i in allUrls:\n",
    "#     print('Title: ' + info(i)[0])\n",
    "#     print('Text: ' + info(i)[1])\n",
    "\n",
    "#----------------------------------------------------------------------\n",
    "\n",
    "# put the title and text to excel sheet\n",
    "workbook = xlsxwriter.Workbook('okaz-news-local.xlsx') # هنا سميت ملف الاكسل\n",
    "worksheet = workbook.add_worksheet()\n",
    "\n",
    "worksheet.write(0, 0, 'Title') # عند الصف والعامود الاول حطلي فيه الكلمة هذي\n",
    "worksheet.write(0, 1, 'URl') # عند الصف الاول والعامود الثاني حطلي فيه الكلمة هذي\n",
    "worksheet.write(0, 2, 'Text') # عند الصف الاول والعامود الثالث حطلي فيه الكلمة هذي\n",
    "for x,i in enumerate(allUrls): # هنا سويت لوب بحجم الروابط اللي عندي وسويت عداد\n",
    "    worksheet.write(x+1, 0, info(i)[0]) # عند الصف اللي يتغير كل شوية والعامود الاول حطلي كل مواضيع المقالات\n",
    "    worksheet.write(x+1, 1, i) # عند الصف اللي يتغير كل شوية والعامود الثاني حطلي كل الروابط\n",
    "    worksheet.write(x+1, 2, info(i)[1]) # عند الصف اللي يتغير كل شوية والعامود الثالث حطلي كل الكلام\n",
    "workbook.close() # قفل الاكسل\n",
    "# راح تلاقي الاكسل في نفس ملف البروجكت"
   ]
  }
 ],
 "metadata": {
  "kernelspec": {
   "display_name": "Python 3",
   "language": "python",
   "name": "python3"
  },
  "language_info": {
   "codemirror_mode": {
    "name": "ipython",
    "version": 3
   },
   "file_extension": ".py",
   "mimetype": "text/x-python",
   "name": "python",
   "nbconvert_exporter": "python",
   "pygments_lexer": "ipython3",
   "version": "3.8.3"
  },
  "varInspector": {
   "cols": {
    "lenName": 16,
    "lenType": 16,
    "lenVar": 40
   },
   "kernels_config": {
    "python": {
     "delete_cmd_postfix": "",
     "delete_cmd_prefix": "del ",
     "library": "var_list.py",
     "varRefreshCmd": "print(var_dic_list())"
    },
    "r": {
     "delete_cmd_postfix": ") ",
     "delete_cmd_prefix": "rm(",
     "library": "var_list.r",
     "varRefreshCmd": "cat(var_dic_list()) "
    }
   },
   "types_to_exclude": [
    "module",
    "function",
    "builtin_function_or_method",
    "instance",
    "_Feature"
   ],
   "window_display": false
  }
 },
 "nbformat": 4,
 "nbformat_minor": 4
}
